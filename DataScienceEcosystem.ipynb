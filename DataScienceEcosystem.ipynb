{
 "cells": [
  {
   "cell_type": "markdown",
   "id": "1a67e9b3-4de4-449d-a956-dc7d7837c08b",
   "metadata": {},
   "source": [
    "# Data Science Tools and Ecosystem"
   ]
  },
  {
   "cell_type": "markdown",
   "id": "1686c517-fd37-422b-adaa-e6600ea5a295",
   "metadata": {},
   "source": [
    "In this notebook, Data Science Tools and Ecosystem are summarized."
   ]
  },
  {
   "cell_type": "markdown",
   "id": "16e6455f-9471-4995-8dfd-5e26863c1b78",
   "metadata": {
    "tags": []
   },
   "source": [
    "** Objectives: **\n",
    "- List popular languages for Data Science\n",
    "- Common data science tools\n",
    "- Commonly used data science libraries"
   ]
  },
  {
   "cell_type": "markdown",
   "id": "a53002e3-f783-4525-be13-dfa497409b89",
   "metadata": {},
   "source": [
    "## Author\n",
    "Pratik Kamble"
   ]
  },
  {
   "cell_type": "code",
   "execution_count": null,
   "id": "efca8030-c46e-4298-8822-c1aa28c97258",
   "metadata": {},
   "outputs": [],
   "source": []
  }
 ],
 "metadata": {
  "kernelspec": {
   "display_name": "Python",
   "language": "python",
   "name": "conda-env-python-py"
  },
  "language_info": {
   "codemirror_mode": {
    "name": "ipython",
    "version": 3
   },
   "file_extension": ".py",
   "mimetype": "text/x-python",
   "name": "python",
   "nbconvert_exporter": "python",
   "pygments_lexer": "ipython3",
   "version": "3.7.12"
  }
 },
 "nbformat": 4,
 "nbformat_minor": 5
}
